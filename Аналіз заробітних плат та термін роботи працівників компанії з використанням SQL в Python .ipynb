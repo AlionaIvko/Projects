{
 "cells": [
  {
   "cell_type": "markdown",
   "id": "5a9c5f56",
   "metadata": {},
   "source": [
    "# Аналіз заробітних плат та термін роботи працівників компанії з використанням SQL в Python"
   ]
  },
  {
   "cell_type": "markdown",
   "id": "8ef1c1c6",
   "metadata": {},
   "source": [
    "## Підготовчий етап"
   ]
  },
  {
   "cell_type": "markdown",
   "id": "2c1af6e1",
   "metadata": {
    "ExecuteTime": {
     "end_time": "2022-11-27T18:04:46.316592Z",
     "start_time": "2022-11-27T18:04:46.302021Z"
    }
   },
   "source": [
    "1.Встановимо бібліотеку `mysql-connector-python`."
   ]
  },
  {
   "cell_type": "code",
   "execution_count": 26,
   "id": "4df94864",
   "metadata": {},
   "outputs": [
    {
     "name": "stdout",
     "output_type": "stream",
     "text": [
      "Requirement already satisfied: mysql-connector-python in c:\\users\\aivko\\anaconda3\\lib\\site-packages (8.2.0)\n",
      "Requirement already satisfied: protobuf<=4.21.12,>=4.21.1 in c:\\users\\aivko\\anaconda3\\lib\\site-packages (from mysql-connector-python) (4.21.12)\n"
     ]
    }
   ],
   "source": [
    "!pip install mysql-connector-python"
   ]
  },
  {
   "cell_type": "code",
   "execution_count": 27,
   "id": "2d6ef17d",
   "metadata": {},
   "outputs": [],
   "source": [
    "import mysql.connector\n",
    "from mysql.connector.connection import MySQLConnection\n",
    "import pandas as pd\n",
    "import datetime \n",
    "import matplotlib.pyplot as plt"
   ]
  },
  {
   "cell_type": "markdown",
   "id": "eec5551e",
   "metadata": {
    "pycharm": {
     "name": "#%% md\n"
    }
   },
   "source": [
    "2.В змінній `con` створимо підключення до бази даних employees:"
   ]
  },
  {
   "cell_type": "code",
   "execution_count": 28,
   "id": "e3fff0d8",
   "metadata": {},
   "outputs": [],
   "source": [
    "con = mysql.connector.connect(user='user1', password='7oygWy6P',\n",
    "                              host='3.68.62.36',\n",
    "                              database='employees')"
   ]
  },
  {
   "cell_type": "markdown",
   "id": "8b17a588",
   "metadata": {
    "ExecuteTime": {
     "end_time": "2022-01-26T22:23:01.406330Z",
     "start_time": "2022-01-26T22:23:01.403942Z"
    },
    "pycharm": {
     "name": "#%% md\n"
    }
   },
   "source": [
    "3.Виберемо максимальну і мінімальну дати найму співробітників використовуючи `con.cursor()`."
   ]
  },
  {
   "cell_type": "code",
   "execution_count": 29,
   "id": "61c9d717",
   "metadata": {},
   "outputs": [],
   "source": [
    "cursor = con.cursor()\n",
    "\n",
    "sql = \"\"\"\n",
    "SELECT max(hire_date), min(hire_date) \n",
    "FROM employees \n",
    "\"\"\"\n",
    "\n",
    "cursor.execute(sql)"
   ]
  },
  {
   "cell_type": "code",
   "execution_count": 30,
   "id": "b77d35ff",
   "metadata": {},
   "outputs": [
    {
     "data": {
      "text/plain": [
       "[(datetime.date(2000, 1, 28), datetime.date(1985, 1, 1))]"
      ]
     },
     "execution_count": 30,
     "metadata": {},
     "output_type": "execute_result"
    }
   ],
   "source": [
    "cursor.fetchall()"
   ]
  },
  {
   "cell_type": "markdown",
   "id": "1d9c214d",
   "metadata": {
    "ExecuteTime": {
     "end_time": "2023-07-14T15:52:49.876166Z",
     "start_time": "2023-07-14T15:52:49.855548Z"
    }
   },
   "source": [
    "4.Виберемо інформацію про останню ЗП кожного співробіткника в базі. \n",
    "Результати запишемо у pandas DataFrame, який збережемо у змінну `res`."
   ]
  },
  {
   "cell_type": "code",
   "execution_count": 31,
   "id": "f326ba43",
   "metadata": {},
   "outputs": [],
   "source": [
    "cursor = con.cursor()\n",
    "\n",
    "sql = \"\"\"\n",
    "SELECT salaries.emp_no, salaries.salary, salaries.from_date, salaries.to_date\n",
    "FROM salaries\n",
    "INNER JOIN (\n",
    "    SELECT emp_no, MAX(to_date) AS to_date\n",
    "    FROM salaries\n",
    "    GROUP BY emp_no\n",
    ") AS max_date ON salaries.emp_no = max_date.emp_no AND salaries.to_date = max_date.to_date;\n",
    "\"\"\"\n",
    "\n",
    "cursor.execute(sql)"
   ]
  },
  {
   "cell_type": "code",
   "execution_count": 32,
   "id": "bf5eb14d",
   "metadata": {
    "ExecuteTime": {
     "end_time": "2023-07-14T16:14:15.617144Z",
     "start_time": "2023-07-14T16:14:15.611369Z"
    }
   },
   "outputs": [],
   "source": [
    "field_names = [i[0] for i in cursor.description]"
   ]
  },
  {
   "cell_type": "code",
   "execution_count": 33,
   "id": "4a4b915e",
   "metadata": {},
   "outputs": [],
   "source": [
    "res = pd.DataFrame(cursor.fetchall(), columns=field_names)"
   ]
  },
  {
   "cell_type": "code",
   "execution_count": 34,
   "id": "202e2d67",
   "metadata": {},
   "outputs": [
    {
     "data": {
      "text/plain": [
       "Index(['emp_no', 'salary', 'from_date', 'to_date'], dtype='object')"
      ]
     },
     "metadata": {},
     "output_type": "display_data"
    },
    {
     "data": {
      "text/html": [
       "<div>\n",
       "<style scoped>\n",
       "    .dataframe tbody tr th:only-of-type {\n",
       "        vertical-align: middle;\n",
       "    }\n",
       "\n",
       "    .dataframe tbody tr th {\n",
       "        vertical-align: top;\n",
       "    }\n",
       "\n",
       "    .dataframe thead th {\n",
       "        text-align: right;\n",
       "    }\n",
       "</style>\n",
       "<table border=\"1\" class=\"dataframe\">\n",
       "  <thead>\n",
       "    <tr style=\"text-align: right;\">\n",
       "      <th></th>\n",
       "      <th>emp_no</th>\n",
       "      <th>salary</th>\n",
       "      <th>from_date</th>\n",
       "      <th>to_date</th>\n",
       "    </tr>\n",
       "  </thead>\n",
       "  <tbody>\n",
       "    <tr>\n",
       "      <th>0</th>\n",
       "      <td>10001</td>\n",
       "      <td>88958</td>\n",
       "      <td>2002-06-22</td>\n",
       "      <td>9999-01-01</td>\n",
       "    </tr>\n",
       "    <tr>\n",
       "      <th>1</th>\n",
       "      <td>10002</td>\n",
       "      <td>72527</td>\n",
       "      <td>2001-08-02</td>\n",
       "      <td>9999-01-01</td>\n",
       "    </tr>\n",
       "    <tr>\n",
       "      <th>2</th>\n",
       "      <td>10003</td>\n",
       "      <td>43311</td>\n",
       "      <td>2001-12-01</td>\n",
       "      <td>9999-01-01</td>\n",
       "    </tr>\n",
       "  </tbody>\n",
       "</table>\n",
       "</div>"
      ],
      "text/plain": [
       "   emp_no  salary   from_date     to_date\n",
       "0   10001   88958  2002-06-22  9999-01-01\n",
       "1   10002   72527  2001-08-02  9999-01-01\n",
       "2   10003   43311  2001-12-01  9999-01-01"
      ]
     },
     "metadata": {},
     "output_type": "display_data"
    },
    {
     "data": {
      "text/plain": [
       "(300180, 4)"
      ]
     },
     "metadata": {},
     "output_type": "display_data"
    }
   ],
   "source": [
    "display( res.columns,res.head(3),res.shape)"
   ]
  },
  {
   "cell_type": "markdown",
   "id": "e5770b56",
   "metadata": {
    "ExecuteTime": {
     "end_time": "2023-07-14T16:17:31.638485Z",
     "start_time": "2023-07-14T16:17:31.632827Z"
    }
   },
   "source": [
    "5.В утвореній вибірці в змінній `res` знайдемо скільки значень `to_date` рівні `9999-01-01`, а скільки - ні? \n",
    "Для початку перевіримо який тип даних у значень колонки `to_date`. "
   ]
  },
  {
   "cell_type": "code",
   "execution_count": 35,
   "id": "8a9dc7e5",
   "metadata": {},
   "outputs": [
    {
     "data": {
      "text/plain": [
       "str"
      ]
     },
     "execution_count": 35,
     "metadata": {},
     "output_type": "execute_result"
    }
   ],
   "source": [
    "type('res.to_date')"
   ]
  },
  {
   "cell_type": "code",
   "execution_count": 36,
   "id": "f4bdf24f",
   "metadata": {},
   "outputs": [
    {
     "data": {
      "text/plain": [
       "dtype('O')"
      ]
     },
     "execution_count": 36,
     "metadata": {},
     "output_type": "execute_result"
    }
   ],
   "source": [
    "res['to_date'].dtype"
   ]
  },
  {
   "cell_type": "code",
   "execution_count": 37,
   "id": "cec0618f",
   "metadata": {},
   "outputs": [
    {
     "data": {
      "text/plain": [
       "datetime.date(9999, 1, 1)"
      ]
     },
     "execution_count": 37,
     "metadata": {},
     "output_type": "execute_result"
    }
   ],
   "source": [
    "res.to_date.loc[1]"
   ]
  },
  {
   "cell_type": "code",
   "execution_count": 38,
   "id": "719b7e28",
   "metadata": {},
   "outputs": [],
   "source": [
    "count_to_date = (res.to_date == datetime.date(9999, 1, 1)).value_counts()"
   ]
  },
  {
   "cell_type": "code",
   "execution_count": 39,
   "id": "d19644ba",
   "metadata": {},
   "outputs": [
    {
     "data": {
      "text/plain": [
       "to_date\n",
       "True     240124\n",
       "False     60056\n",
       "Name: count, dtype: int64"
      ]
     },
     "execution_count": 39,
     "metadata": {},
     "output_type": "execute_result"
    }
   ],
   "source": [
    "count_to_date"
   ]
  },
  {
   "cell_type": "markdown",
   "id": "ae22c37a",
   "metadata": {},
   "source": [
    "6.Виведемо візуально розподіл (гістограму) зарплат співробітників, які досі працюють в компанії, використовуючи результат попереднього завдання. Співробітниками, які досі працюють в компанії вважаємо тих, в кого to_date має значення 9999-01-01. "
   ]
  },
  {
   "cell_type": "code",
   "execution_count": 40,
   "id": "bc42ba28",
   "metadata": {},
   "outputs": [],
   "source": [
    "filtered_salaries = res[res.to_date == datetime.date(9999, 1, 1)]"
   ]
  },
  {
   "cell_type": "code",
   "execution_count": 41,
   "id": "fb8dbb0f",
   "metadata": {},
   "outputs": [
    {
     "data": {
      "image/png": "[encoded data removed]",
      "text/plain": [
       "<Figure size 640x480 with 1 Axes>"
      ]
     },
     "metadata": {},
     "output_type": "display_data"
    }
   ],
   "source": [
    "plt.hist(filtered_salaries['salary'])\n",
    "plt.title('Distribution of salaries of employees who are still working in the company')\n",
    "plt.xlabel('Salaries')\n",
    "plt.ylabel('Employees');"
   ]
  },
  {
   "cell_type": "markdown",
   "id": "e3cb2f21",
   "metadata": {
    "ExecuteTime": {
     "end_time": "2022-11-27T18:12:44.199787Z",
     "start_time": "2022-11-27T18:12:44.196078Z"
    }
   },
   "source": [
    "7.Виведемо кількість співробітників за роком, в який вони були найняті (`hire_date`) використовуючи `pandas.read_sql`. Запишемо результат в змінну `df` та виведемо значення змінної на екран."
   ]
  },
  {
   "cell_type": "code",
   "execution_count": 42,
   "id": "e0daf0a2",
   "metadata": {},
   "outputs": [],
   "source": [
    "sql_query = \"\"\"\n",
    "SELECT year(hire_date) as hire_year, count(emp_no) as emp_num  \n",
    "FROM employees \n",
    "GROUP BY year(hire_date)\n",
    "\"\"\""
   ]
  },
  {
   "cell_type": "code",
   "execution_count": 43,
   "id": "12c938c7",
   "metadata": {
    "scrolled": true
   },
   "outputs": [
    {
     "name": "stderr",
     "output_type": "stream",
     "text": [
      "C:\\Users\\aivko\\AppData\\Local\\Temp\\ipykernel_10424\\1926125351.py:1: UserWarning: pandas only supports SQLAlchemy connectable (engine/connection) or database string URI or sqlite3 DBAPI2 connection. Other DBAPI2 objects are not tested. Please consider using SQLAlchemy.\n",
      "  df = pd.read_sql_query(sql_query, con)\n"
     ]
    }
   ],
   "source": [
    "df = pd.read_sql_query(sql_query, con)"
   ]
  },
  {
   "cell_type": "code",
   "execution_count": 44,
   "id": "9bbfa729",
   "metadata": {},
   "outputs": [
    {
     "data": {
      "text/html": [
       "<div>\n",
       "<style scoped>\n",
       "    .dataframe tbody tr th:only-of-type {\n",
       "        vertical-align: middle;\n",
       "    }\n",
       "\n",
       "    .dataframe tbody tr th {\n",
       "        vertical-align: top;\n",
       "    }\n",
       "\n",
       "    .dataframe thead th {\n",
       "        text-align: right;\n",
       "    }\n",
       "</style>\n",
       "<table border=\"1\" class=\"dataframe\">\n",
       "  <thead>\n",
       "    <tr style=\"text-align: right;\">\n",
       "      <th></th>\n",
       "      <th>hire_year</th>\n",
       "      <th>emp_num</th>\n",
       "    </tr>\n",
       "  </thead>\n",
       "  <tbody>\n",
       "    <tr>\n",
       "      <th>0</th>\n",
       "      <td>1986</td>\n",
       "      <td>36150</td>\n",
       "    </tr>\n",
       "    <tr>\n",
       "      <th>1</th>\n",
       "      <td>1985</td>\n",
       "      <td>35316</td>\n",
       "    </tr>\n",
       "    <tr>\n",
       "      <th>2</th>\n",
       "      <td>1989</td>\n",
       "      <td>28394</td>\n",
       "    </tr>\n",
       "    <tr>\n",
       "      <th>3</th>\n",
       "      <td>1994</td>\n",
       "      <td>14835</td>\n",
       "    </tr>\n",
       "    <tr>\n",
       "      <th>4</th>\n",
       "      <td>1990</td>\n",
       "      <td>25610</td>\n",
       "    </tr>\n",
       "    <tr>\n",
       "      <th>5</th>\n",
       "      <td>1992</td>\n",
       "      <td>20402</td>\n",
       "    </tr>\n",
       "    <tr>\n",
       "      <th>6</th>\n",
       "      <td>1987</td>\n",
       "      <td>33501</td>\n",
       "    </tr>\n",
       "    <tr>\n",
       "      <th>7</th>\n",
       "      <td>1995</td>\n",
       "      <td>12115</td>\n",
       "    </tr>\n",
       "    <tr>\n",
       "      <th>8</th>\n",
       "      <td>1993</td>\n",
       "      <td>17772</td>\n",
       "    </tr>\n",
       "    <tr>\n",
       "      <th>9</th>\n",
       "      <td>1999</td>\n",
       "      <td>1514</td>\n",
       "    </tr>\n",
       "    <tr>\n",
       "      <th>10</th>\n",
       "      <td>1991</td>\n",
       "      <td>22568</td>\n",
       "    </tr>\n",
       "    <tr>\n",
       "      <th>11</th>\n",
       "      <td>1988</td>\n",
       "      <td>31436</td>\n",
       "    </tr>\n",
       "    <tr>\n",
       "      <th>12</th>\n",
       "      <td>1997</td>\n",
       "      <td>6669</td>\n",
       "    </tr>\n",
       "    <tr>\n",
       "      <th>13</th>\n",
       "      <td>1996</td>\n",
       "      <td>9574</td>\n",
       "    </tr>\n",
       "    <tr>\n",
       "      <th>14</th>\n",
       "      <td>1998</td>\n",
       "      <td>4155</td>\n",
       "    </tr>\n",
       "    <tr>\n",
       "      <th>15</th>\n",
       "      <td>2000</td>\n",
       "      <td>13</td>\n",
       "    </tr>\n",
       "  </tbody>\n",
       "</table>\n",
       "</div>"
      ],
      "text/plain": [
       "    hire_year  emp_num\n",
       "0        1986    36150\n",
       "1        1985    35316\n",
       "2        1989    28394\n",
       "3        1994    14835\n",
       "4        1990    25610\n",
       "5        1992    20402\n",
       "6        1987    33501\n",
       "7        1995    12115\n",
       "8        1993    17772\n",
       "9        1999     1514\n",
       "10       1991    22568\n",
       "11       1988    31436\n",
       "12       1997     6669\n",
       "13       1996     9574\n",
       "14       1998     4155\n",
       "15       2000       13"
      ]
     },
     "execution_count": 44,
     "metadata": {},
     "output_type": "execute_result"
    }
   ],
   "source": [
    "df"
   ]
  },
  {
   "cell_type": "markdown",
   "id": "455b4155",
   "metadata": {
    "ExecuteTime": {
     "end_time": "2022-11-27T18:16:50.180759Z",
     "start_time": "2022-11-27T18:16:50.176823Z"
    }
   },
   "source": [
    "8.Виведемо лінійний графік залежності кількості найманих співробітників від року найму. "
   ]
  },
  {
   "cell_type": "code",
   "execution_count": 45,
   "id": "0f98d084",
   "metadata": {},
   "outputs": [
    {
     "data": {
      "image/png": "[encoded data removed]",
      "text/plain": [
       "<Figure size 640x480 with 1 Axes>"
      ]
     },
     "metadata": {},
     "output_type": "display_data"
    }
   ],
   "source": [
    "df.sort_values('hire_year').plot(x='hire_year', y='emp_num');"
   ]
  },
  {
   "cell_type": "markdown",
   "id": "c8b9d3cf",
   "metadata": {
    "ExecuteTime": {
     "end_time": "2022-11-27T18:33:41.923026Z",
     "start_time": "2022-11-27T18:33:41.915905Z"
    }
   },
   "source": [
    "9.З допомогою SQL для робітників позиції `Engineer`, які вже не працюють в компанії знайдемо кількість повних років перебування на позиції. \n",
    "Результат запишемо в змінну `df_years` та виведемо цю змінну на екран."
   ]
  },
  {
   "cell_type": "code",
   "execution_count": 46,
   "id": "9e59b82a",
   "metadata": {},
   "outputs": [],
   "source": [
    "sql = \"\"\"\n",
    "SELECT TIMESTAMPDIFF(year, from_date, to_date) duration, from_date, to_date\n",
    "FROM titles\n",
    "WHERE title = 'Engineer' and to_date <> '9999-01-01'\n",
    "\"\"\""
   ]
  },
  {
   "cell_type": "code",
   "execution_count": 47,
   "id": "689d7c0c",
   "metadata": {},
   "outputs": [
    {
     "name": "stderr",
     "output_type": "stream",
     "text": [
      "C:\\Users\\aivko\\AppData\\Local\\Temp\\ipykernel_10424\\3233243521.py:1: UserWarning: pandas only supports SQLAlchemy connectable (engine/connection) or database string URI or sqlite3 DBAPI2 connection. Other DBAPI2 objects are not tested. Please consider using SQLAlchemy.\n",
      "  df_years = pd.read_sql_query(sql, con)\n"
     ]
    }
   ],
   "source": [
    "df_years = pd.read_sql_query(sql, con)"
   ]
  },
  {
   "cell_type": "code",
   "execution_count": 48,
   "id": "3ba9b6ae",
   "metadata": {},
   "outputs": [
    {
     "name": "stdout",
     "output_type": "stream",
     "text": [
      "       duration   from_date     to_date\n",
      "0             9  1986-12-01  1995-12-01\n",
      "1             5  1990-02-18  1995-02-18\n",
      "2             8  1992-12-18  2000-12-18\n",
      "3             8  1987-04-03  1995-04-03\n",
      "4             5  1995-03-20  2001-03-19\n",
      "...         ...         ...         ...\n",
      "84015         9  1989-11-23  1998-11-23\n",
      "84016         5  1989-07-30  1994-07-30\n",
      "84017         0  1993-02-22  1993-10-27\n",
      "84018         6  1996-05-13  2002-05-13\n",
      "84019         4  1987-08-30  1992-08-29\n",
      "\n",
      "[84020 rows x 3 columns]\n"
     ]
    }
   ],
   "source": [
    "print(df_years)"
   ]
  },
  {
   "cell_type": "markdown",
   "id": "5bc0220a",
   "metadata": {},
   "source": [
    "10.Використовуючи дані в  `df_years`, побудуэмо гістограму кількості років, протягом яких люди з назвою позиції `Engineer` перебували на позиції."
   ]
  },
  {
   "cell_type": "code",
   "execution_count": 49,
   "id": "cf2215bc",
   "metadata": {},
   "outputs": [
    {
     "data": {
      "image/png": "[encoded data removed]",
      "text/plain": [
       "<Figure size 640x480 with 1 Axes>"
      ]
     },
     "metadata": {},
     "output_type": "display_data"
    }
   ],
   "source": [
    "df_years.duration.hist()\n",
    "plt.title('Years on Engineer position')\n",
    "plt.ylabel('Numver of Employees')\n",
    "plt.xlabel('Number of Years');"
   ]
  },
  {
   "cell_type": "markdown",
   "id": "451bfbd7",
   "metadata": {},
   "source": [
    "Закривємо підключення до бази"
   ]
  },
  {
   "cell_type": "code",
   "execution_count": 50,
   "id": "240c0e4b",
   "metadata": {
    "ExecuteTime": {
     "end_time": "2023-07-14T14:05:35.322224Z",
     "start_time": "2023-07-14T14:05:35.318756Z"
    }
   },
   "outputs": [],
   "source": [
    "con.close()"
   ]
  },
  {
   "cell_type": "code",
   "execution_count": null,
   "id": "dcce8552",
   "metadata": {},
   "outputs": [],
   "source": []
  }
 ],
 "metadata": {
  "kernelspec": {
   "display_name": "Python 3 (ipykernel)",
   "language": "python",
   "name": "python3"
  },
  "language_info": {
   "codemirror_mode": {
    "name": "ipython",
    "version": 3
   },
   "file_extension": ".py",
   "mimetype": "text/x-python",
   "name": "python",
   "nbconvert_exporter": "python",
   "pygments_lexer": "ipython3",
   "version": "3.11.5"
  },
  "toc": {
   "base_numbering": 1,
   "nav_menu": {},
   "number_sections": true,
   "sideBar": true,
   "skip_h1_title": false,
   "title_cell": "Table of Contents",
   "title_sidebar": "Contents",
   "toc_cell": false,
   "toc_position": {},
   "toc_section_display": true,
   "toc_window_display": false
  },
  "vscode": {
   "interpreter": {
    "hash": "a6511e6b41b26ba86cca7483749cf4dd15bf137a2672e550741a656e19bba82e"
   }
  }
 },
 "nbformat": 4,
 "nbformat_minor": 5
}
